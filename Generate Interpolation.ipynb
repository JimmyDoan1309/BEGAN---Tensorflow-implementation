{
 "cells": [
  {
   "cell_type": "code",
   "execution_count": 1,
   "metadata": {},
   "outputs": [],
   "source": [
    "import tensorflow as tf\n",
    "import numpy as np\n",
    "import matplotlib.pyplot as plt\n",
    "from PIL import Image\n",
    "import sys\n",
    "from utils_2 import save_image"
   ]
  },
  {
   "cell_type": "code",
   "execution_count": 7,
   "metadata": {},
   "outputs": [],
   "source": [
    "sess = tf.Session()"
   ]
  },
  {
   "cell_type": "code",
   "execution_count": 8,
   "metadata": {},
   "outputs": [
    {
     "name": "stdout",
     "output_type": "stream",
     "text": [
      "INFO:tensorflow:Restoring parameters from ./Model/BEGAN-Face/inference_model/BEGAN_generate_215.ckpt\n"
     ]
    }
   ],
   "source": [
    "myModel = tf.train.import_meta_graph('./Model/BEGAN-Face/inference_model/BEGAN_generate_215.ckpt.meta')\n",
    "myModel.restore(sess,tf.train.latest_checkpoint('./Model/BEGAN-Face/inference_model/'))"
   ]
  },
  {
   "cell_type": "code",
   "execution_count": 84,
   "metadata": {},
   "outputs": [],
   "source": [
    "k1 = np.random.uniform(-0.5,0.5)\n",
    "k2 = np.random.uniform(-0.5,0.5)\n",
    "noise1 = np.random.normal(k1,1,size=[1,128])\n",
    "noise2 = np.random.normal(k2,1,size=[1,128])"
   ]
  },
  {
   "cell_type": "code",
   "execution_count": 85,
   "metadata": {},
   "outputs": [],
   "source": [
    "def de_norm(img):\n",
    "    return ((img*127.5)+127.5)"
   ]
  },
  {
   "cell_type": "code",
   "execution_count": 86,
   "metadata": {},
   "outputs": [],
   "source": [
    "def interpolation(x1,x2,name,step=10):\n",
    "    scale = np.linspace(1,0,step)\n",
    "    scale_reversed = scale[::-1]\n",
    "    for i in range(step):\n",
    "        s1 = scale[i]\n",
    "        s2 = scale_reversed[i]\n",
    "        interpolation_noise = s1*x1 + s2*x2\n",
    "        img = sess.run('Generator_1:0',feed_dict={'latent:0':interpolation_noise})\n",
    "        save_image('./export/BEGAN/',\"{}_{}\".format(name,i),img[0],de_normalize_func=de_norm)\n",
    "    return interpolation_noise"
   ]
  },
  {
   "cell_type": "code",
   "execution_count": 87,
   "metadata": {},
   "outputs": [],
   "source": [
    "for i in range(30):\n",
    "    noise1 = interpolation(noise1,noise2,i,step=20)\n",
    "    np.random.uniform(-0.5,0.5)\n",
    "    noise2 = np.random.normal(k,1,size=[1,128])"
   ]
  },
  {
   "cell_type": "code",
   "execution_count": 11,
   "metadata": {},
   "outputs": [],
   "source": [
    "graph = tf.get_default_graph()"
   ]
  },
  {
   "cell_type": "code",
   "execution_count": 12,
   "metadata": {},
   "outputs": [
    {
     "name": "stdout",
     "output_type": "stream",
     "text": [
      "name: \"Generator_1\"\n",
      "op: \"Identity\"\n",
      "input: \"generator/Tanh\"\n",
      "attr {\n",
      "  key: \"T\"\n",
      "  value {\n",
      "    type: DT_FLOAT\n",
      "  }\n",
      "}\n",
      "\n"
     ]
    }
   ],
   "source": [
    "for i in graph.get_operations():\n",
    "    if 'Generator' in i.name:\n",
    "        print(i)"
   ]
  },
  {
   "cell_type": "code",
   "execution_count": null,
   "metadata": {},
   "outputs": [],
   "source": []
  }
 ],
 "metadata": {
  "kernelspec": {
   "display_name": "Python 3",
   "language": "python",
   "name": "python3"
  },
  "language_info": {
   "codemirror_mode": {
    "name": "ipython",
    "version": 3
   },
   "file_extension": ".py",
   "mimetype": "text/x-python",
   "name": "python",
   "nbconvert_exporter": "python",
   "pygments_lexer": "ipython3",
   "version": "3.6.7"
  }
 },
 "nbformat": 4,
 "nbformat_minor": 2
}
